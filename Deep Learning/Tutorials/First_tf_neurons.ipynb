{
 "cells": [
  {
   "cell_type": "markdown",
   "metadata": {},
   "source": [
    "# First TF Neurons"
   ]
  },
  {
   "cell_type": "code",
   "execution_count": 1,
   "metadata": {},
   "outputs": [],
   "source": [
    "import numpy as np\n",
    "np.random.seed(42)\n",
    "import tensorflow as tf\n",
    "tf.set_random_seed(42)\n",
    "import matplotlib.pyplot as plt"
   ]
  },
  {
   "cell_type": "markdown",
   "metadata": {},
   "source": [
    "#### Set neurons"
   ]
  },
  {
   "cell_type": "code",
   "execution_count": 2,
   "metadata": {},
   "outputs": [],
   "source": [
    "n_input = 728\n",
    "n_dense = 128"
   ]
  },
  {
   "cell_type": "markdown",
   "metadata": {},
   "source": [
    "#### Define placeholder Tensor "
   ]
  },
  {
   "cell_type": "code",
   "execution_count": 3,
   "metadata": {},
   "outputs": [],
   "source": [
    "x = tf.placeholder(tf.float32, [None, n_input])"
   ]
  },
  {
   "cell_type": "markdown",
   "metadata": {},
   "source": [
    "#### Define Variable Tensors"
   ]
  },
  {
   "cell_type": "code",
   "execution_count": 4,
   "metadata": {},
   "outputs": [],
   "source": [
    "b = tf.Variable(tf.zeros([n_dense]))\n",
    "# W = tf.Variable(tf.random_normal([n_input, n_dense]))\n",
    "W = tf.get_variable('W', [n_input, n_dense], initializer=tf.contrib.layers.xavier_initializer())"
   ]
  },
  {
   "cell_type": "markdown",
   "metadata": {},
   "source": [
    "#### Design the computational graph"
   ]
  },
  {
   "cell_type": "code",
   "execution_count": 5,
   "metadata": {},
   "outputs": [],
   "source": [
    "z = tf.add(tf.matmul(x, W), b)\n",
    "a = tf.nn.relu(z)"
   ]
  },
  {
   "cell_type": "markdown",
   "metadata": {},
   "source": [
    "#### Initialize Variables"
   ]
  },
  {
   "cell_type": "code",
   "execution_count": 6,
   "metadata": {},
   "outputs": [],
   "source": [
    "initializer_op = tf.global_variables_initializer()"
   ]
  },
  {
   "cell_type": "markdown",
   "metadata": {},
   "source": [
    "### Execute Graph"
   ]
  },
  {
   "cell_type": "code",
   "execution_count": 7,
   "metadata": {},
   "outputs": [],
   "source": [
    "with tf.Session() as session : \n",
    "    session.run(initializer_op)\n",
    "    \n",
    "    layer_output = session.run(a, feed_dict = {x : np.random.random([1, n_input])})"
   ]
  },
  {
   "cell_type": "code",
   "execution_count": 8,
   "metadata": {},
   "outputs": [
    {
     "data": {
      "text/plain": [
       "array([[ 2.20716029e-01,  8.57213974e-01,  5.42546093e-01,\n",
       "         5.68083048e-01, -0.00000000e+00, -0.00000000e+00,\n",
       "         1.46634206e-01,  2.80004799e-01,  3.05535078e-01,\n",
       "         3.00477266e-01, -0.00000000e+00,  4.31074947e-01,\n",
       "        -0.00000000e+00,  1.08727002e+00,  6.30172640e-02,\n",
       "         1.29956901e+00, -0.00000000e+00,  2.39540428e-01,\n",
       "         3.61143172e-01,  1.55540764e-01,  4.34830487e-01,\n",
       "         5.63165724e-01,  1.48892105e-01,  3.03201646e-01,\n",
       "        -0.00000000e+00,  1.23739615e-01,  4.65787016e-02,\n",
       "         4.61594164e-02, -0.00000000e+00,  2.51238108e-01,\n",
       "         3.55112463e-01, -0.00000000e+00, -0.00000000e+00,\n",
       "        -0.00000000e+00,  2.31842920e-01,  5.55341065e-01,\n",
       "        -0.00000000e+00, -0.00000000e+00,  4.66610909e-01,\n",
       "        -0.00000000e+00,  3.49674940e-01, -0.00000000e+00,\n",
       "        -0.00000000e+00, -0.00000000e+00, -0.00000000e+00,\n",
       "         5.70478797e-01, -0.00000000e+00, -0.00000000e+00,\n",
       "        -0.00000000e+00,  4.54770803e-01,  1.41093647e+00,\n",
       "         3.06303859e-01,  2.29184985e-01,  1.04997322e-01,\n",
       "        -0.00000000e+00,  8.08398843e-01,  6.94657087e-01,\n",
       "        -0.00000000e+00,  5.24124205e-02, -0.00000000e+00,\n",
       "        -0.00000000e+00,  9.37075138e-01, -0.00000000e+00,\n",
       "        -0.00000000e+00,  1.09018970e+00,  1.25804305e+00,\n",
       "         9.70129013e-01, -0.00000000e+00, -0.00000000e+00,\n",
       "        -0.00000000e+00, -0.00000000e+00,  6.03731513e-01,\n",
       "        -0.00000000e+00, -0.00000000e+00, -0.00000000e+00,\n",
       "         1.16761029e-03,  6.12114727e-01,  2.85891712e-01,\n",
       "        -0.00000000e+00,  1.92991853e-01, -0.00000000e+00,\n",
       "        -0.00000000e+00,  1.91173896e-01,  1.17137003e+00,\n",
       "        -0.00000000e+00, -0.00000000e+00, -0.00000000e+00,\n",
       "         5.65668941e-01,  5.59370279e-01,  6.92598522e-01,\n",
       "         9.49060917e-02, -0.00000000e+00, -0.00000000e+00,\n",
       "         1.05510318e+00, -0.00000000e+00,  1.60841703e-01,\n",
       "         1.22322965e+00, -0.00000000e+00,  5.54613590e-01,\n",
       "         1.09299362e-01, -0.00000000e+00,  6.77511811e-01,\n",
       "         7.22724199e-02,  2.21710727e-01, -0.00000000e+00,\n",
       "         3.04248452e-01,  2.28965491e-01,  5.81067026e-01,\n",
       "         1.04402053e+00,  3.74620229e-01, -0.00000000e+00,\n",
       "         4.02798355e-02,  3.41376930e-01, -0.00000000e+00,\n",
       "        -0.00000000e+00,  9.27570090e-02,  1.17888033e+00,\n",
       "         3.98826599e-02,  3.90110940e-01, -0.00000000e+00,\n",
       "         5.15913963e-03, -0.00000000e+00,  9.72343385e-02,\n",
       "        -0.00000000e+00, -0.00000000e+00, -0.00000000e+00,\n",
       "        -0.00000000e+00, -0.00000000e+00]], dtype=float32)"
      ]
     },
     "execution_count": 8,
     "metadata": {},
     "output_type": "execute_result"
    }
   ],
   "source": [
    "layer_output"
   ]
  },
  {
   "cell_type": "code",
   "execution_count": 9,
   "metadata": {},
   "outputs": [
    {
     "data": {
      "image/png": "[encoded data removed]",
      "text/plain": [
       "<Figure size 432x288 with 1 Axes>"
      ]
     },
     "metadata": {},
     "output_type": "display_data"
    }
   ],
   "source": [
    "_ = plt.hist(np.transpose(layer_output))"
   ]
  },
  {
   "cell_type": "code",
   "execution_count": null,
   "metadata": {},
   "outputs": [],
   "source": []
  }
 ],
 "metadata": {
  "kernelspec": {
   "display_name": "Python 2",
   "language": "python",
   "name": "python2"
  },
  "language_info": {
   "codemirror_mode": {
    "name": "ipython",
    "version": 2
   },
   "file_extension": ".py",
   "mimetype": "text/x-python",
   "name": "python",
   "nbconvert_exporter": "python",
   "pygments_lexer": "ipython2",
   "version": "2.7.15"
  }
 },
 "nbformat": 4,
 "nbformat_minor": 2
}
